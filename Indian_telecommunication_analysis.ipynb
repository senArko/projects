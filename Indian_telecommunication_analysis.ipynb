{
 "cells": [
  {
   "cell_type": "code",
   "execution_count": 2,
   "id": "c10ae39d",
   "metadata": {},
   "outputs": [],
   "source": [
    "import pandas as pd\n",
    "import numpy as np\n",
    "import matplotlib.pyplot as plt\n",
    "import seaborn as sns\n",
    "import matplotlib\n",
    "sns.set_style(\"darkgrid\")\n",
    "matplotlib.rcParams[\"figure.figsize\"] = (10,5)\n",
    "%matplotlib inline"
   ]
  },
  {
   "cell_type": "code",
   "execution_count": 91,
   "id": "54cf9770",
   "metadata": {},
   "outputs": [],
   "source": [
    "data = pd.read_csv(\"Indian telecommunications market.csv\")"
   ]
  },
  {
   "cell_type": "code",
   "execution_count": 92,
   "id": "663876c8",
   "metadata": {},
   "outputs": [
    {
     "data": {
      "text/html": [
       "<div>\n",
       "<style scoped>\n",
       "    .dataframe tbody tr th:only-of-type {\n",
       "        vertical-align: middle;\n",
       "    }\n",
       "\n",
       "    .dataframe tbody tr th {\n",
       "        vertical-align: top;\n",
       "    }\n",
       "\n",
       "    .dataframe thead th {\n",
       "        text-align: right;\n",
       "    }\n",
       "</style>\n",
       "<table border=\"1\" class=\"dataframe\">\n",
       "  <thead>\n",
       "    <tr style=\"text-align: right;\">\n",
       "      <th></th>\n",
       "      <th>Timestamp</th>\n",
       "      <th>1.Which region of India are you from?</th>\n",
       "      <th>2.Which type of location do you live in?</th>\n",
       "      <th>3.Which tech are you currently using?</th>\n",
       "      <th>4.Can you send an email with no attachments and just paragraphs of text instantly?</th>\n",
       "      <th>5.Are one-on-one video calls a smooth experience?</th>\n",
       "      <th>6.Do you experience delays in video conference calls?</th>\n",
       "      <th>7.How long does it take you to download a song of 4 minutes?</th>\n",
       "      <th>8.How much data do you use each month?</th>\n",
       "      <th>9.What do you usually do with your phone? (Multiple choices)</th>\n",
       "      <th>...</th>\n",
       "      <th>14-Jio.How much are you paying for your mobile bill &amp; WiFi services per month currently?</th>\n",
       "      <th>15-Jio.If VI lowers its price for services to the same level as Jio, will you switch to VI?</th>\n",
       "      <th>16-Jio.Rate the service quality</th>\n",
       "      <th>13-Airtel.Why do you use your current network?</th>\n",
       "      <th>14-Airtel.How much are you paying for your mobile bill &amp; WiFi services per month currently?</th>\n",
       "      <th>15-Airtel.If VI lowers its price for services to the same level as Airtel, will you switch to VI?</th>\n",
       "      <th>16-Airtel.If VI provides higher quality services with a higher price as compared to Airtel, will you switch to VI?</th>\n",
       "      <th>17-Airtel.Rate the service quality</th>\n",
       "      <th>18.How much support do you think these companies are obtaining from the government?</th>\n",
       "      <th>19.Do you think the telecommunications market in India is tilting towards a monopoly?</th>\n",
       "    </tr>\n",
       "  </thead>\n",
       "  <tbody>\n",
       "    <tr>\n",
       "      <th>0</th>\n",
       "      <td>10/28/2021 18:56:57</td>\n",
       "      <td>West</td>\n",
       "      <td>Urban</td>\n",
       "      <td>4G</td>\n",
       "      <td>Yes</td>\n",
       "      <td>Yes</td>\n",
       "      <td>No</td>\n",
       "      <td>Less than 1 min</td>\n",
       "      <td>1GB to 10GB</td>\n",
       "      <td>Social Media and Instant messaging, Online Mee...</td>\n",
       "      <td>...</td>\n",
       "      <td>NaN</td>\n",
       "      <td>NaN</td>\n",
       "      <td>NaN</td>\n",
       "      <td>NaN</td>\n",
       "      <td>NaN</td>\n",
       "      <td>NaN</td>\n",
       "      <td>NaN</td>\n",
       "      <td>NaN</td>\n",
       "      <td>7</td>\n",
       "      <td>Yes</td>\n",
       "    </tr>\n",
       "    <tr>\n",
       "      <th>1</th>\n",
       "      <td>10/28/2021 19:14:06</td>\n",
       "      <td>North</td>\n",
       "      <td>Urban</td>\n",
       "      <td>4G</td>\n",
       "      <td>Yes</td>\n",
       "      <td>Yes</td>\n",
       "      <td>Yes</td>\n",
       "      <td>Less than 1 min</td>\n",
       "      <td>10GB to 50GB</td>\n",
       "      <td>Social Media and Instant messaging, Online Sho...</td>\n",
       "      <td>...</td>\n",
       "      <td>Rs. 1000-3000</td>\n",
       "      <td>Yes</td>\n",
       "      <td>10.0</td>\n",
       "      <td>NaN</td>\n",
       "      <td>NaN</td>\n",
       "      <td>NaN</td>\n",
       "      <td>NaN</td>\n",
       "      <td>NaN</td>\n",
       "      <td>8</td>\n",
       "      <td>Yes</td>\n",
       "    </tr>\n",
       "    <tr>\n",
       "      <th>2</th>\n",
       "      <td>10/28/2021 21:30:05</td>\n",
       "      <td>West</td>\n",
       "      <td>Urban</td>\n",
       "      <td>4G</td>\n",
       "      <td>No</td>\n",
       "      <td>Yes</td>\n",
       "      <td>No</td>\n",
       "      <td>1 min to 2 mins</td>\n",
       "      <td>10GB to 50GB</td>\n",
       "      <td>Social Media and Instant messaging, Online Sho...</td>\n",
       "      <td>...</td>\n",
       "      <td>NaN</td>\n",
       "      <td>NaN</td>\n",
       "      <td>NaN</td>\n",
       "      <td>The only network that works in my bedroom</td>\n",
       "      <td>Rs. 1000-3000</td>\n",
       "      <td>Yes</td>\n",
       "      <td>Yes</td>\n",
       "      <td>7.0</td>\n",
       "      <td>8</td>\n",
       "      <td>Yes</td>\n",
       "    </tr>\n",
       "    <tr>\n",
       "      <th>3</th>\n",
       "      <td>10/28/2021 23:06:31</td>\n",
       "      <td>East</td>\n",
       "      <td>Urban</td>\n",
       "      <td>4G</td>\n",
       "      <td>Yes</td>\n",
       "      <td>Yes</td>\n",
       "      <td>No</td>\n",
       "      <td>1 min to 2 mins</td>\n",
       "      <td>10GB to 50GB</td>\n",
       "      <td>Social Media and Instant messaging, Online Rea...</td>\n",
       "      <td>...</td>\n",
       "      <td>NaN</td>\n",
       "      <td>NaN</td>\n",
       "      <td>NaN</td>\n",
       "      <td>High quality</td>\n",
       "      <td>Less than Rs. 1000</td>\n",
       "      <td>No</td>\n",
       "      <td>Yes</td>\n",
       "      <td>7.0</td>\n",
       "      <td>7</td>\n",
       "      <td>No</td>\n",
       "    </tr>\n",
       "    <tr>\n",
       "      <th>4</th>\n",
       "      <td>10/29/2021 6:35:21</td>\n",
       "      <td>West</td>\n",
       "      <td>Urban</td>\n",
       "      <td>4G</td>\n",
       "      <td>Yes</td>\n",
       "      <td>No</td>\n",
       "      <td>No</td>\n",
       "      <td>Less than 1 min</td>\n",
       "      <td>More than 50GB</td>\n",
       "      <td>Social Media and Instant messaging, Online Sho...</td>\n",
       "      <td>...</td>\n",
       "      <td>NaN</td>\n",
       "      <td>NaN</td>\n",
       "      <td>NaN</td>\n",
       "      <td>High quality</td>\n",
       "      <td>Rs. 1000-3000</td>\n",
       "      <td>Maybe</td>\n",
       "      <td>Maybe</td>\n",
       "      <td>10.0</td>\n",
       "      <td>9</td>\n",
       "      <td>Yes</td>\n",
       "    </tr>\n",
       "  </tbody>\n",
       "</table>\n",
       "<p>5 rows × 28 columns</p>\n",
       "</div>"
      ],
      "text/plain": [
       "             Timestamp 1.Which region of India are you from?  \\\n",
       "0  10/28/2021 18:56:57                                  West   \n",
       "1  10/28/2021 19:14:06                                 North   \n",
       "2  10/28/2021 21:30:05                                  West   \n",
       "3  10/28/2021 23:06:31                                  East   \n",
       "4   10/29/2021 6:35:21                                  West   \n",
       "\n",
       "  2.Which type of location do you live in?  \\\n",
       "0                                    Urban   \n",
       "1                                    Urban   \n",
       "2                                    Urban   \n",
       "3                                    Urban   \n",
       "4                                    Urban   \n",
       "\n",
       "  3.Which tech are you currently using?  \\\n",
       "0                                    4G   \n",
       "1                                    4G   \n",
       "2                                    4G   \n",
       "3                                    4G   \n",
       "4                                    4G   \n",
       "\n",
       "  4.Can you send an email with no attachments and just paragraphs of text instantly?  \\\n",
       "0                                                Yes                                   \n",
       "1                                                Yes                                   \n",
       "2                                                 No                                   \n",
       "3                                                Yes                                   \n",
       "4                                                Yes                                   \n",
       "\n",
       "  5.Are one-on-one video calls a smooth experience?  \\\n",
       "0                                               Yes   \n",
       "1                                               Yes   \n",
       "2                                               Yes   \n",
       "3                                               Yes   \n",
       "4                                                No   \n",
       "\n",
       "  6.Do you experience delays in video conference calls?  \\\n",
       "0                                                 No      \n",
       "1                                                Yes      \n",
       "2                                                 No      \n",
       "3                                                 No      \n",
       "4                                                 No      \n",
       "\n",
       "  7.How long does it take you to download a song of 4 minutes?  \\\n",
       "0                                    Less than 1 min             \n",
       "1                                    Less than 1 min             \n",
       "2                                    1 min to 2 mins             \n",
       "3                                    1 min to 2 mins             \n",
       "4                                    Less than 1 min             \n",
       "\n",
       "  8.How much data do you use each month?  \\\n",
       "0                            1GB to 10GB   \n",
       "1                           10GB to 50GB   \n",
       "2                           10GB to 50GB   \n",
       "3                           10GB to 50GB   \n",
       "4                         More than 50GB   \n",
       "\n",
       "  9.What do you usually do with your phone? (Multiple choices)  ...  \\\n",
       "0  Social Media and Instant messaging, Online Mee...            ...   \n",
       "1  Social Media and Instant messaging, Online Sho...            ...   \n",
       "2  Social Media and Instant messaging, Online Sho...            ...   \n",
       "3  Social Media and Instant messaging, Online Rea...            ...   \n",
       "4  Social Media and Instant messaging, Online Sho...            ...   \n",
       "\n",
       "   14-Jio.How much are you paying for your mobile bill & WiFi services per month currently?  \\\n",
       "0                                                NaN                                          \n",
       "1                                      Rs. 1000-3000                                          \n",
       "2                                                NaN                                          \n",
       "3                                                NaN                                          \n",
       "4                                                NaN                                          \n",
       "\n",
       "  15-Jio.If VI lowers its price for services to the same level as Jio, will you switch to VI?  \\\n",
       "0                                                NaN                                            \n",
       "1                                                Yes                                            \n",
       "2                                                NaN                                            \n",
       "3                                                NaN                                            \n",
       "4                                                NaN                                            \n",
       "\n",
       "  16-Jio.Rate the service quality  \\\n",
       "0                             NaN   \n",
       "1                            10.0   \n",
       "2                             NaN   \n",
       "3                             NaN   \n",
       "4                             NaN   \n",
       "\n",
       "  13-Airtel.Why do you use your current network?  \\\n",
       "0                                            NaN   \n",
       "1                                            NaN   \n",
       "2     The only network that works in my bedroom    \n",
       "3                                   High quality   \n",
       "4                                   High quality   \n",
       "\n",
       "  14-Airtel.How much are you paying for your mobile bill & WiFi services per month currently?  \\\n",
       "0                                                NaN                                            \n",
       "1                                                NaN                                            \n",
       "2                                      Rs. 1000-3000                                            \n",
       "3                                 Less than Rs. 1000                                            \n",
       "4                                      Rs. 1000-3000                                            \n",
       "\n",
       "  15-Airtel.If VI lowers its price for services to the same level as Airtel, will you switch to VI?  \\\n",
       "0                                                NaN                                                  \n",
       "1                                                NaN                                                  \n",
       "2                                                Yes                                                  \n",
       "3                                                 No                                                  \n",
       "4                                              Maybe                                                  \n",
       "\n",
       "   16-Airtel.If VI provides higher quality services with a higher price as compared to Airtel, will you switch to VI?  \\\n",
       "0                                                NaN                                                                    \n",
       "1                                                NaN                                                                    \n",
       "2                                                Yes                                                                    \n",
       "3                                                Yes                                                                    \n",
       "4                                              Maybe                                                                    \n",
       "\n",
       "  17-Airtel.Rate the service quality  \\\n",
       "0                                NaN   \n",
       "1                                NaN   \n",
       "2                                7.0   \n",
       "3                                7.0   \n",
       "4                               10.0   \n",
       "\n",
       "  18.How much support do you think these companies are obtaining from the government?  \\\n",
       "0                                                  7                                    \n",
       "1                                                  8                                    \n",
       "2                                                  8                                    \n",
       "3                                                  7                                    \n",
       "4                                                  9                                    \n",
       "\n",
       "  19.Do you think the telecommunications market in India is tilting towards a monopoly?  \n",
       "0                                                Yes                                     \n",
       "1                                                Yes                                     \n",
       "2                                                Yes                                     \n",
       "3                                                 No                                     \n",
       "4                                                Yes                                     \n",
       "\n",
       "[5 rows x 28 columns]"
      ]
     },
     "execution_count": 92,
     "metadata": {},
     "output_type": "execute_result"
    }
   ],
   "source": [
    "data.head()"
   ]
  },
  {
   "cell_type": "code",
   "execution_count": 93,
   "id": "ae713a6c",
   "metadata": {},
   "outputs": [
    {
     "data": {
      "text/plain": [
       "(50, 28)"
      ]
     },
     "execution_count": 93,
     "metadata": {},
     "output_type": "execute_result"
    }
   ],
   "source": [
    "data.shape"
   ]
  },
  {
   "cell_type": "markdown",
   "id": "1ff22a53",
   "metadata": {},
   "source": [
    "Data Cleaning"
   ]
  },
  {
   "cell_type": "code",
   "execution_count": 94,
   "id": "8e6dc0bc",
   "metadata": {},
   "outputs": [],
   "source": [
    "data.rename(columns = {\"1.Which region of India are you from?\":\"Region\"},inplace = True)"
   ]
  },
  {
   "cell_type": "code",
   "execution_count": 95,
   "id": "fa58226c",
   "metadata": {},
   "outputs": [],
   "source": [
    "data.rename(columns={\"2.Which type of location do you live in?\": \"Location_Type\",\n",
    "                     \"3.Which tech are you currently using?\": \"Connection_Type\",\n",
    "                     \"4.Can you send an email with no attachments and just paragraphs of text instantly?\": \"Email_sending\",\n",
    "                     \"5.Are one-on-one video calls a smooth experience?\": \"Video_Call_Smooth\",\n",
    "                     \"6.Do you experience delays in video conference calls?\": \"Delay_in_Video_calls\",\n",
    "                     \"7.How long does it take you to download a song of 4 minutes?\": \"Download_Speed\"},\n",
    "            inplace=True)\n"
   ]
  },
  {
   "cell_type": "code",
   "execution_count": 96,
   "id": "2737c3eb",
   "metadata": {},
   "outputs": [],
   "source": [
    "data.rename(columns={\"8.How much data do you use each month?\": \"Data_Usage/month\",\n",
    "                     \"9.What do you usually do with your phone? (Multiple choices)\": \"Phone_used_for\",\n",
    "                     \"10.What do you think about the call drop rate? \": \"Call_Drop_Rate\"},\n",
    "            inplace=True)\n"
   ]
  },
  {
   "cell_type": "code",
   "execution_count": 97,
   "id": "ca02a846",
   "metadata": {},
   "outputs": [
    {
     "data": {
      "text/plain": [
       "Index(['Timestamp', 'Region', 'Location_Type', 'Connection_Type',\n",
       "       'Email_sending', 'Video_Call_Smooth', 'Delay_in_Video_calls',\n",
       "       'Download_Speed', 'Data_Usage/month', 'Phone_used_for',\n",
       "       'Call_Drop_Rate',\n",
       "       '11.Which network are you likely to recommend to a tourist who is in town for a few days?',\n",
       "       '12.Which network do you use more often?',\n",
       "       '13-VI.Why do you use your current network?',\n",
       "       '14-VI.How much are you paying for your mobile bill & WiFi services per month currently?',\n",
       "       '15-VI.If Airtel lowers its price a little, or if Jio provides higher quality services, will you switch?',\n",
       "       '16-VI.Rate the service quality',\n",
       "       '13-Jio.Why do you use your current network?',\n",
       "       '14-Jio.How much are you paying for your mobile bill & WiFi services per month currently?',\n",
       "       '15-Jio.If VI lowers its price for services to the same level as Jio, will you switch to VI?',\n",
       "       '16-Jio.Rate the service quality',\n",
       "       '13-Airtel.Why do you use your current network?',\n",
       "       '14-Airtel.How much are you paying for your mobile bill & WiFi services per month currently?',\n",
       "       '15-Airtel.If VI lowers its price for services to the same level as Airtel, will you switch to VI?',\n",
       "       '16-Airtel.If VI provides higher quality services with a higher price as compared to Airtel, will you switch to VI?',\n",
       "       '17-Airtel.Rate the service quality',\n",
       "       '18.How much support do you think these companies are obtaining from the government?',\n",
       "       '19.Do you think the telecommunications market in India is tilting towards a monopoly?'],\n",
       "      dtype='object')"
      ]
     },
     "execution_count": 97,
     "metadata": {},
     "output_type": "execute_result"
    }
   ],
   "source": [
    "data.columns"
   ]
  },
  {
   "cell_type": "code",
   "execution_count": 98,
   "id": "d87e06af",
   "metadata": {},
   "outputs": [],
   "source": [
    "data.rename(columns = {\"11.Which network are you likely to recommend to a tourist who is in town for a few days?\":\"Recommend_to_Tourist\",\"12.Which network do you use more often?\":\"Oftenly_used_Network\"},inplace = True)"
   ]
  },
  {
   "cell_type": "code",
   "execution_count": 99,
   "id": "0a85f164",
   "metadata": {},
   "outputs": [],
   "source": [
    "data.rename(columns={\"12.Which network do you use more often?\": \"Why_Use(VI)\",\n",
    "                     \"14-VI.How much are you paying for your mobile bill & WiFi services per month currently?\": \"Average_Monthlybill(VI)\",\n",
    "                     \"15-VI.If Airtel lowers its price a little, or if Jio provides higher quality services, will you switch?\": \"Switch_to_airtel/jio_(VI)\"\n",
    "                    },inplace = True)\n"
   ]
  },
  {
   "cell_type": "code",
   "execution_count": 100,
   "id": "b0be4fbd",
   "metadata": {},
   "outputs": [],
   "source": [
    "data.rename(columns = {\"16-VI.Rate the service quality\":\"Service_Quality(VI)\",\"14-Jio.How much are you paying for your mobile bill & WiFi services per month currently?\":\"Monthly_Bill(jio)\",\"15-Jio.If VI lowers its price for services to the same level as Jio, will you switch to VI?\":\"Switch_to_VI(Jio)\",\"16-Jio.Rate the service quality\":\"Service_Quality(Jio)\"},inplace = True)"
   ]
  },
  {
   "cell_type": "code",
   "execution_count": 101,
   "id": "edc8764c",
   "metadata": {},
   "outputs": [],
   "source": [
    "data.rename(columns = {\"14-Airtel.How much are you paying for your mobile bill & WiFi services per month currently?\":\"Month_Bill(Airtel)\",\"15-Airtel.If VI lowers its price for services to the same level as Airtel, will you switch to VI?\":\"Swith_to_VI(price)\",\"16-Airtel.If VI provides higher quality services with a higher price as compared to Airtel, will you switch to VI?\":\"Switch_to_VI(services)\",\"17-Airtel.Rate the service quality\":\"Service_Quality(Airtel)\",\"19.Do you think the telecommunications market in India is tilting towards a monopoly?\":\"Monopoly_in_Market?\"},inplace = True)"
   ]
  },
  {
   "cell_type": "code",
   "execution_count": 102,
   "id": "ec04d454",
   "metadata": {},
   "outputs": [],
   "source": [
    "data.rename(columns = {\"Average_Monthlybill(VI)\":\"Monthly_Bill(VI)\"},inplace = True)"
   ]
  },
  {
   "cell_type": "code",
   "execution_count": 111,
   "id": "1aa27115",
   "metadata": {},
   "outputs": [
    {
     "data": {
      "text/html": [
       "<div>\n",
       "<style scoped>\n",
       "    .dataframe tbody tr th:only-of-type {\n",
       "        vertical-align: middle;\n",
       "    }\n",
       "\n",
       "    .dataframe tbody tr th {\n",
       "        vertical-align: top;\n",
       "    }\n",
       "\n",
       "    .dataframe thead th {\n",
       "        text-align: right;\n",
       "    }\n",
       "</style>\n",
       "<table border=\"1\" class=\"dataframe\">\n",
       "  <thead>\n",
       "    <tr style=\"text-align: right;\">\n",
       "      <th></th>\n",
       "      <th>Timestamp</th>\n",
       "      <th>Region</th>\n",
       "      <th>Location_Type</th>\n",
       "      <th>Connection_Type</th>\n",
       "      <th>Email_sending</th>\n",
       "      <th>Video_Call_Smooth</th>\n",
       "      <th>Delay_in_Video_calls</th>\n",
       "      <th>Download_Speed</th>\n",
       "      <th>Data_Usage/month</th>\n",
       "      <th>Phone_used_for</th>\n",
       "      <th>...</th>\n",
       "      <th>Monthly_Bill(jio)</th>\n",
       "      <th>Switch_to_VI(Jio)</th>\n",
       "      <th>Service_Quality(Jio)</th>\n",
       "      <th>13-Airtel.Why do you use your current network?</th>\n",
       "      <th>Month_Bill(Airtel)</th>\n",
       "      <th>Swith_to_VI(price)</th>\n",
       "      <th>Switch_to_VI(services)</th>\n",
       "      <th>Service_Quality(Airtel)</th>\n",
       "      <th>18.How much support do you think these companies are obtaining from the government?</th>\n",
       "      <th>Monopoly_in_Market?</th>\n",
       "    </tr>\n",
       "  </thead>\n",
       "  <tbody>\n",
       "    <tr>\n",
       "      <th>0</th>\n",
       "      <td>10/28/2021 18:56:57</td>\n",
       "      <td>West</td>\n",
       "      <td>Urban</td>\n",
       "      <td>4G</td>\n",
       "      <td>Yes</td>\n",
       "      <td>Yes</td>\n",
       "      <td>No</td>\n",
       "      <td>0.5</td>\n",
       "      <td>5632</td>\n",
       "      <td>Social Media and Instant messaging, Online Mee...</td>\n",
       "      <td>...</td>\n",
       "      <td>NaN</td>\n",
       "      <td>NaN</td>\n",
       "      <td>NaN</td>\n",
       "      <td>NaN</td>\n",
       "      <td>NaN</td>\n",
       "      <td>NaN</td>\n",
       "      <td>NaN</td>\n",
       "      <td>NaN</td>\n",
       "      <td>7</td>\n",
       "      <td>Yes</td>\n",
       "    </tr>\n",
       "    <tr>\n",
       "      <th>1</th>\n",
       "      <td>10/28/2021 19:14:06</td>\n",
       "      <td>North</td>\n",
       "      <td>Urban</td>\n",
       "      <td>4G</td>\n",
       "      <td>Yes</td>\n",
       "      <td>Yes</td>\n",
       "      <td>Yes</td>\n",
       "      <td>0.5</td>\n",
       "      <td>30720</td>\n",
       "      <td>Social Media and Instant messaging, Online Sho...</td>\n",
       "      <td>...</td>\n",
       "      <td>Rs. 1000-3000</td>\n",
       "      <td>Yes</td>\n",
       "      <td>10.0</td>\n",
       "      <td>NaN</td>\n",
       "      <td>NaN</td>\n",
       "      <td>NaN</td>\n",
       "      <td>NaN</td>\n",
       "      <td>NaN</td>\n",
       "      <td>8</td>\n",
       "      <td>Yes</td>\n",
       "    </tr>\n",
       "    <tr>\n",
       "      <th>2</th>\n",
       "      <td>10/28/2021 21:30:05</td>\n",
       "      <td>West</td>\n",
       "      <td>Urban</td>\n",
       "      <td>4G</td>\n",
       "      <td>No</td>\n",
       "      <td>Yes</td>\n",
       "      <td>No</td>\n",
       "      <td>1.5</td>\n",
       "      <td>30720</td>\n",
       "      <td>Social Media and Instant messaging, Online Sho...</td>\n",
       "      <td>...</td>\n",
       "      <td>NaN</td>\n",
       "      <td>NaN</td>\n",
       "      <td>NaN</td>\n",
       "      <td>The only network that works in my bedroom</td>\n",
       "      <td>Rs. 1000-3000</td>\n",
       "      <td>Yes</td>\n",
       "      <td>Yes</td>\n",
       "      <td>7.0</td>\n",
       "      <td>8</td>\n",
       "      <td>Yes</td>\n",
       "    </tr>\n",
       "    <tr>\n",
       "      <th>3</th>\n",
       "      <td>10/28/2021 23:06:31</td>\n",
       "      <td>East</td>\n",
       "      <td>Urban</td>\n",
       "      <td>4G</td>\n",
       "      <td>Yes</td>\n",
       "      <td>Yes</td>\n",
       "      <td>No</td>\n",
       "      <td>1.5</td>\n",
       "      <td>30720</td>\n",
       "      <td>Social Media and Instant messaging, Online Rea...</td>\n",
       "      <td>...</td>\n",
       "      <td>NaN</td>\n",
       "      <td>NaN</td>\n",
       "      <td>NaN</td>\n",
       "      <td>High quality</td>\n",
       "      <td>Less than Rs. 1000</td>\n",
       "      <td>No</td>\n",
       "      <td>Yes</td>\n",
       "      <td>7.0</td>\n",
       "      <td>7</td>\n",
       "      <td>No</td>\n",
       "    </tr>\n",
       "    <tr>\n",
       "      <th>4</th>\n",
       "      <td>10/29/2021 6:35:21</td>\n",
       "      <td>West</td>\n",
       "      <td>Urban</td>\n",
       "      <td>4G</td>\n",
       "      <td>Yes</td>\n",
       "      <td>No</td>\n",
       "      <td>No</td>\n",
       "      <td>0.5</td>\n",
       "      <td>51200</td>\n",
       "      <td>Social Media and Instant messaging, Online Sho...</td>\n",
       "      <td>...</td>\n",
       "      <td>NaN</td>\n",
       "      <td>NaN</td>\n",
       "      <td>NaN</td>\n",
       "      <td>High quality</td>\n",
       "      <td>Rs. 1000-3000</td>\n",
       "      <td>Maybe</td>\n",
       "      <td>Maybe</td>\n",
       "      <td>10.0</td>\n",
       "      <td>9</td>\n",
       "      <td>Yes</td>\n",
       "    </tr>\n",
       "  </tbody>\n",
       "</table>\n",
       "<p>5 rows × 28 columns</p>\n",
       "</div>"
      ],
      "text/plain": [
       "             Timestamp Region Location_Type Connection_Type Email_sending  \\\n",
       "0  10/28/2021 18:56:57   West         Urban              4G           Yes   \n",
       "1  10/28/2021 19:14:06  North         Urban              4G           Yes   \n",
       "2  10/28/2021 21:30:05   West         Urban              4G            No   \n",
       "3  10/28/2021 23:06:31   East         Urban              4G           Yes   \n",
       "4   10/29/2021 6:35:21   West         Urban              4G           Yes   \n",
       "\n",
       "  Video_Call_Smooth Delay_in_Video_calls  Download_Speed  Data_Usage/month  \\\n",
       "0               Yes                   No             0.5              5632   \n",
       "1               Yes                  Yes             0.5             30720   \n",
       "2               Yes                   No             1.5             30720   \n",
       "3               Yes                   No             1.5             30720   \n",
       "4                No                   No             0.5             51200   \n",
       "\n",
       "                                      Phone_used_for  ...  Monthly_Bill(jio)  \\\n",
       "0  Social Media and Instant messaging, Online Mee...  ...                NaN   \n",
       "1  Social Media and Instant messaging, Online Sho...  ...      Rs. 1000-3000   \n",
       "2  Social Media and Instant messaging, Online Sho...  ...                NaN   \n",
       "3  Social Media and Instant messaging, Online Rea...  ...                NaN   \n",
       "4  Social Media and Instant messaging, Online Sho...  ...                NaN   \n",
       "\n",
       "  Switch_to_VI(Jio) Service_Quality(Jio)  \\\n",
       "0               NaN                  NaN   \n",
       "1               Yes                 10.0   \n",
       "2               NaN                  NaN   \n",
       "3               NaN                  NaN   \n",
       "4               NaN                  NaN   \n",
       "\n",
       "  13-Airtel.Why do you use your current network?  Month_Bill(Airtel)  \\\n",
       "0                                            NaN                 NaN   \n",
       "1                                            NaN                 NaN   \n",
       "2     The only network that works in my bedroom        Rs. 1000-3000   \n",
       "3                                   High quality  Less than Rs. 1000   \n",
       "4                                   High quality       Rs. 1000-3000   \n",
       "\n",
       "  Swith_to_VI(price)  Switch_to_VI(services) Service_Quality(Airtel)  \\\n",
       "0                NaN                     NaN                     NaN   \n",
       "1                NaN                     NaN                     NaN   \n",
       "2                Yes                     Yes                     7.0   \n",
       "3                 No                     Yes                     7.0   \n",
       "4              Maybe                   Maybe                    10.0   \n",
       "\n",
       "  18.How much support do you think these companies are obtaining from the government?  \\\n",
       "0                                                  7                                    \n",
       "1                                                  8                                    \n",
       "2                                                  8                                    \n",
       "3                                                  7                                    \n",
       "4                                                  9                                    \n",
       "\n",
       "  Monopoly_in_Market?  \n",
       "0                 Yes  \n",
       "1                 Yes  \n",
       "2                 Yes  \n",
       "3                  No  \n",
       "4                 Yes  \n",
       "\n",
       "[5 rows x 28 columns]"
      ]
     },
     "execution_count": 111,
     "metadata": {},
     "output_type": "execute_result"
    }
   ],
   "source": [
    "data.head()"
   ]
  },
  {
   "cell_type": "code",
   "execution_count": 106,
   "id": "28a31916",
   "metadata": {},
   "outputs": [
    {
     "data": {
      "text/plain": [
       "array([0.5, 1.5, 3.5, 7.5])"
      ]
     },
     "execution_count": 106,
     "metadata": {},
     "output_type": "execute_result"
    }
   ],
   "source": [
    "data[\"Download_Speed\"].unique()"
   ]
  },
  {
   "cell_type": "code",
   "execution_count": 105,
   "id": "b498c5bb",
   "metadata": {},
   "outputs": [],
   "source": [
    "data[\"Download_Speed\"] = data[\"Download_Speed\"].replace({\"Less than 1 min\":0.5,\"1 min to 2 mins\":1.5,\"2 mins to 5 mins\":3.5,\"5 mins to 10 mins\":7.5})"
   ]
  },
  {
   "cell_type": "code",
   "execution_count": 109,
   "id": "cd8a1d35",
   "metadata": {},
   "outputs": [],
   "source": [
    "data[\"Data_Usage/month\"].replace({\"1GB to 10GB\": 5632, \"10GB to 50GB\": 30720, \"More than 50GB\": 51200, \"100MB to 1GB\": 562}, inplace=True)\n"
   ]
  },
  {
   "cell_type": "code",
   "execution_count": 107,
   "id": "d0fed63d",
   "metadata": {},
   "outputs": [],
   "source": [
    "data[\"Data_Usage/month\"] = data[\"Data_Usage/month\"].str.strip()"
   ]
  },
  {
   "cell_type": "code",
   "execution_count": 110,
   "id": "6929faad",
   "metadata": {},
   "outputs": [
    {
     "data": {
      "text/plain": [
       "array([ 5632, 30720, 51200,   562], dtype=int64)"
      ]
     },
     "execution_count": 110,
     "metadata": {},
     "output_type": "execute_result"
    }
   ],
   "source": [
    "data[\"Data_Usage/month\"].unique()"
   ]
  },
  {
   "cell_type": "code",
   "execution_count": 114,
   "id": "828100a0",
   "metadata": {},
   "outputs": [
    {
     "data": {
      "text/plain": [
       "array([  nan, 2000.,  500.])"
      ]
     },
     "execution_count": 114,
     "metadata": {},
     "output_type": "execute_result"
    }
   ],
   "source": [
    "data[\"Monthly_Bill(jio)\"].unique()"
   ]
  },
  {
   "cell_type": "code",
   "execution_count": 113,
   "id": "596f8755",
   "metadata": {},
   "outputs": [],
   "source": [
    "data[\"Monthly_Bill(jio)\"] = data[\"Monthly_Bill(jio)\"].replace({\"Rs. 1000-3000\":2000,\"Less than Rs. 1000\":500})"
   ]
  },
  {
   "cell_type": "code",
   "execution_count": 115,
   "id": "33308b86",
   "metadata": {},
   "outputs": [
    {
     "data": {
      "text/plain": [
       "array([nan, 10.,  7.,  8.,  9.,  6.,  5.])"
      ]
     },
     "execution_count": 115,
     "metadata": {},
     "output_type": "execute_result"
    }
   ],
   "source": [
    "data[\"Service_Quality(Jio)\"].unique()"
   ]
  },
  {
   "cell_type": "code",
   "execution_count": 118,
   "id": "b55c5b86",
   "metadata": {},
   "outputs": [
    {
     "data": {
      "text/plain": [
       "array([  nan, 2000.,  500.])"
      ]
     },
     "execution_count": 118,
     "metadata": {},
     "output_type": "execute_result"
    }
   ],
   "source": [
    "data[\"Month_Bill(Airtel)\"].unique()"
   ]
  },
  {
   "cell_type": "code",
   "execution_count": 117,
   "id": "b9cdbdcc",
   "metadata": {},
   "outputs": [],
   "source": [
    "data[\"Month_Bill(Airtel)\"] = data[\"Month_Bill(Airtel)\"].replace({\"Rs. 1000-3000\":2000,\"Less than Rs. 1000\":500})"
   ]
  },
  {
   "cell_type": "code",
   "execution_count": 119,
   "id": "dc405e5d",
   "metadata": {},
   "outputs": [
    {
     "data": {
      "text/plain": [
       "Index(['Timestamp', 'Region', 'Location_Type', 'Connection_Type',\n",
       "       'Email_sending', 'Video_Call_Smooth', 'Delay_in_Video_calls',\n",
       "       'Download_Speed', 'Data_Usage/month', 'Phone_used_for',\n",
       "       'Call_Drop_Rate', 'Recommend_to_Tourist', 'Oftenly_used_Network',\n",
       "       '13-VI.Why do you use your current network?', 'Monthly_Bill(VI)',\n",
       "       'Switch_to_airtel/jio_(VI)', 'Service_Quality(VI)',\n",
       "       '13-Jio.Why do you use your current network?', 'Monthly_Bill(jio)',\n",
       "       'Switch_to_VI(Jio)', 'Service_Quality(Jio)',\n",
       "       '13-Airtel.Why do you use your current network?', 'Month_Bill(Airtel)',\n",
       "       'Swith_to_VI(price)', 'Switch_to_VI(services)',\n",
       "       'Service_Quality(Airtel)',\n",
       "       '18.How much support do you think these companies are obtaining from the government?',\n",
       "       'Monopoly_in_Market?'],\n",
       "      dtype='object')"
      ]
     },
     "execution_count": 119,
     "metadata": {},
     "output_type": "execute_result"
    }
   ],
   "source": [
    "data.columns"
   ]
  },
  {
   "cell_type": "code",
   "execution_count": 122,
   "id": "550caca6",
   "metadata": {},
   "outputs": [
    {
     "data": {
      "text/plain": [
       "array([ 500.,   nan, 2000.])"
      ]
     },
     "execution_count": 122,
     "metadata": {},
     "output_type": "execute_result"
    }
   ],
   "source": [
    "data[\"Monthly_Bill(VI)\"].unique()"
   ]
  },
  {
   "cell_type": "code",
   "execution_count": 121,
   "id": "730072a0",
   "metadata": {},
   "outputs": [],
   "source": [
    "data[\"Monthly_Bill(VI)\"] = data[\"Monthly_Bill(VI)\"].replace({\"Rs. 1000-3000\":2000,\"Less than Rs. 1000\":500})"
   ]
  },
  {
   "cell_type": "code",
   "execution_count": 129,
   "id": "b2d1e1fc",
   "metadata": {},
   "outputs": [
    {
     "name": "stdout",
     "output_type": "stream",
     "text": [
      "<class 'pandas.core.frame.DataFrame'>\n",
      "RangeIndex: 50 entries, 0 to 49\n",
      "Data columns (total 28 columns):\n",
      " #   Column                                                                               Non-Null Count  Dtype         \n",
      "---  ------                                                                               --------------  -----         \n",
      " 0   Timestamp                                                                            50 non-null     datetime64[ns]\n",
      " 1   Region                                                                               50 non-null     object        \n",
      " 2   Location_Type                                                                        50 non-null     object        \n",
      " 3   Connection_Type                                                                      50 non-null     object        \n",
      " 4   Email_sending                                                                        50 non-null     object        \n",
      " 5   Video_Call_Smooth                                                                    50 non-null     object        \n",
      " 6   Delay_in_Video_calls                                                                 50 non-null     object        \n",
      " 7   Download_Speed                                                                       50 non-null     float64       \n",
      " 8   Data_Usage/month                                                                     50 non-null     int64         \n",
      " 9   Phone_used_for                                                                       50 non-null     object        \n",
      " 10  Call_Drop_Rate                                                                       50 non-null     int64         \n",
      " 11  Recommend_to_Tourist                                                                 50 non-null     object        \n",
      " 12  Oftenly_used_Network                                                                 50 non-null     object        \n",
      " 13  13-VI.Why do you use your current network?                                           10 non-null     object        \n",
      " 14  Monthly_Bill(VI)                                                                     10 non-null     float64       \n",
      " 15  Switch_to_airtel/jio_(VI)                                                            10 non-null     object        \n",
      " 16  Service_Quality(VI)                                                                  10 non-null     float64       \n",
      " 17  13-Jio.Why do you use your current network?                                          18 non-null     object        \n",
      " 18  Monthly_Bill(jio)                                                                    18 non-null     float64       \n",
      " 19  Switch_to_VI(Jio)                                                                    18 non-null     object        \n",
      " 20  Service_Quality(Jio)                                                                 18 non-null     float64       \n",
      " 21  13-Airtel.Why do you use your current network?                                       22 non-null     object        \n",
      " 22  Month_Bill(Airtel)                                                                   22 non-null     float64       \n",
      " 23  Swith_to_VI(price)                                                                   22 non-null     object        \n",
      " 24  Switch_to_VI(services)                                                               22 non-null     object        \n",
      " 25  Service_Quality(Airtel)                                                              22 non-null     float64       \n",
      " 26  18.How much support do you think these companies are obtaining from the government?  50 non-null     int64         \n",
      " 27  Monopoly_in_Market?                                                                  50 non-null     object        \n",
      "dtypes: datetime64[ns](1), float64(7), int64(3), object(17)\n",
      "memory usage: 11.1+ KB\n"
     ]
    }
   ],
   "source": [
    "data.info()"
   ]
  },
  {
   "cell_type": "code",
   "execution_count": 124,
   "id": "3c057f76",
   "metadata": {},
   "outputs": [],
   "source": [
    "data[\"Timestamp\"] = pd.to_datetime(data[\"Timestamp\"])"
   ]
  },
  {
   "cell_type": "code",
   "execution_count": 126,
   "id": "ea6721a0",
   "metadata": {},
   "outputs": [],
   "source": [
    "data[\"Download_Speed\"] = pd.to_numeric(data[\"Download_Speed\"])"
   ]
  },
  {
   "cell_type": "code",
   "execution_count": 128,
   "id": "778a4bf2",
   "metadata": {},
   "outputs": [],
   "source": [
    "data[\"Data_Usage/month\"] = pd.to_numeric(data[\"Data_Usage/month\"])\n",
    "data[\"Monthly_Bill(VI)\"] = pd.to_numeric(data[\"Monthly_Bill(VI)\"])\n",
    "data[\"Service_Quality(VI)\"] = pd.to_numeric(data[\"Service_Quality(VI)\"])\n",
    "data[\"Monthly_Bill(jio)\"] = pd.to_numeric(data[\"Monthly_Bill(jio)\"])\n",
    "data[\"Service_Quality(Jio)\"] = pd.to_numeric(data[\"Service_Quality(Jio)\"])\n",
    "data[\"Month_Bill(Airtel)\"] = pd.to_numeric(data[\"Month_Bill(Airtel)\"])\n",
    "data[\"Service_Quality(Airtel)\"] = pd.to_numeric(data[\"Service_Quality(Airtel)\"])"
   ]
  },
  {
   "cell_type": "markdown",
   "id": "af6690a5",
   "metadata": {},
   "source": [
    "# Analysis"
   ]
  },
  {
   "cell_type": "code",
   "execution_count": 130,
   "id": "62ffe003",
   "metadata": {},
   "outputs": [
    {
     "data": {
      "text/html": [
       "<div>\n",
       "<style scoped>\n",
       "    .dataframe tbody tr th:only-of-type {\n",
       "        vertical-align: middle;\n",
       "    }\n",
       "\n",
       "    .dataframe tbody tr th {\n",
       "        vertical-align: top;\n",
       "    }\n",
       "\n",
       "    .dataframe thead th {\n",
       "        text-align: right;\n",
       "    }\n",
       "</style>\n",
       "<table border=\"1\" class=\"dataframe\">\n",
       "  <thead>\n",
       "    <tr style=\"text-align: right;\">\n",
       "      <th></th>\n",
       "      <th>Timestamp</th>\n",
       "      <th>Region</th>\n",
       "      <th>Location_Type</th>\n",
       "      <th>Connection_Type</th>\n",
       "      <th>Email_sending</th>\n",
       "      <th>Video_Call_Smooth</th>\n",
       "      <th>Delay_in_Video_calls</th>\n",
       "      <th>Download_Speed</th>\n",
       "      <th>Data_Usage/month</th>\n",
       "      <th>Phone_used_for</th>\n",
       "      <th>...</th>\n",
       "      <th>Monthly_Bill(jio)</th>\n",
       "      <th>Switch_to_VI(Jio)</th>\n",
       "      <th>Service_Quality(Jio)</th>\n",
       "      <th>13-Airtel.Why do you use your current network?</th>\n",
       "      <th>Month_Bill(Airtel)</th>\n",
       "      <th>Swith_to_VI(price)</th>\n",
       "      <th>Switch_to_VI(services)</th>\n",
       "      <th>Service_Quality(Airtel)</th>\n",
       "      <th>18.How much support do you think these companies are obtaining from the government?</th>\n",
       "      <th>Monopoly_in_Market?</th>\n",
       "    </tr>\n",
       "  </thead>\n",
       "  <tbody>\n",
       "    <tr>\n",
       "      <th>0</th>\n",
       "      <td>2021-10-28 18:56:57</td>\n",
       "      <td>West</td>\n",
       "      <td>Urban</td>\n",
       "      <td>4G</td>\n",
       "      <td>Yes</td>\n",
       "      <td>Yes</td>\n",
       "      <td>No</td>\n",
       "      <td>0.5</td>\n",
       "      <td>5632</td>\n",
       "      <td>Social Media and Instant messaging, Online Mee...</td>\n",
       "      <td>...</td>\n",
       "      <td>NaN</td>\n",
       "      <td>NaN</td>\n",
       "      <td>NaN</td>\n",
       "      <td>NaN</td>\n",
       "      <td>NaN</td>\n",
       "      <td>NaN</td>\n",
       "      <td>NaN</td>\n",
       "      <td>NaN</td>\n",
       "      <td>7</td>\n",
       "      <td>Yes</td>\n",
       "    </tr>\n",
       "    <tr>\n",
       "      <th>1</th>\n",
       "      <td>2021-10-28 19:14:06</td>\n",
       "      <td>North</td>\n",
       "      <td>Urban</td>\n",
       "      <td>4G</td>\n",
       "      <td>Yes</td>\n",
       "      <td>Yes</td>\n",
       "      <td>Yes</td>\n",
       "      <td>0.5</td>\n",
       "      <td>30720</td>\n",
       "      <td>Social Media and Instant messaging, Online Sho...</td>\n",
       "      <td>...</td>\n",
       "      <td>2000.0</td>\n",
       "      <td>Yes</td>\n",
       "      <td>10.0</td>\n",
       "      <td>NaN</td>\n",
       "      <td>NaN</td>\n",
       "      <td>NaN</td>\n",
       "      <td>NaN</td>\n",
       "      <td>NaN</td>\n",
       "      <td>8</td>\n",
       "      <td>Yes</td>\n",
       "    </tr>\n",
       "    <tr>\n",
       "      <th>2</th>\n",
       "      <td>2021-10-28 21:30:05</td>\n",
       "      <td>West</td>\n",
       "      <td>Urban</td>\n",
       "      <td>4G</td>\n",
       "      <td>No</td>\n",
       "      <td>Yes</td>\n",
       "      <td>No</td>\n",
       "      <td>1.5</td>\n",
       "      <td>30720</td>\n",
       "      <td>Social Media and Instant messaging, Online Sho...</td>\n",
       "      <td>...</td>\n",
       "      <td>NaN</td>\n",
       "      <td>NaN</td>\n",
       "      <td>NaN</td>\n",
       "      <td>The only network that works in my bedroom</td>\n",
       "      <td>2000.0</td>\n",
       "      <td>Yes</td>\n",
       "      <td>Yes</td>\n",
       "      <td>7.0</td>\n",
       "      <td>8</td>\n",
       "      <td>Yes</td>\n",
       "    </tr>\n",
       "    <tr>\n",
       "      <th>3</th>\n",
       "      <td>2021-10-28 23:06:31</td>\n",
       "      <td>East</td>\n",
       "      <td>Urban</td>\n",
       "      <td>4G</td>\n",
       "      <td>Yes</td>\n",
       "      <td>Yes</td>\n",
       "      <td>No</td>\n",
       "      <td>1.5</td>\n",
       "      <td>30720</td>\n",
       "      <td>Social Media and Instant messaging, Online Rea...</td>\n",
       "      <td>...</td>\n",
       "      <td>NaN</td>\n",
       "      <td>NaN</td>\n",
       "      <td>NaN</td>\n",
       "      <td>High quality</td>\n",
       "      <td>500.0</td>\n",
       "      <td>No</td>\n",
       "      <td>Yes</td>\n",
       "      <td>7.0</td>\n",
       "      <td>7</td>\n",
       "      <td>No</td>\n",
       "    </tr>\n",
       "    <tr>\n",
       "      <th>4</th>\n",
       "      <td>2021-10-29 06:35:21</td>\n",
       "      <td>West</td>\n",
       "      <td>Urban</td>\n",
       "      <td>4G</td>\n",
       "      <td>Yes</td>\n",
       "      <td>No</td>\n",
       "      <td>No</td>\n",
       "      <td>0.5</td>\n",
       "      <td>51200</td>\n",
       "      <td>Social Media and Instant messaging, Online Sho...</td>\n",
       "      <td>...</td>\n",
       "      <td>NaN</td>\n",
       "      <td>NaN</td>\n",
       "      <td>NaN</td>\n",
       "      <td>High quality</td>\n",
       "      <td>2000.0</td>\n",
       "      <td>Maybe</td>\n",
       "      <td>Maybe</td>\n",
       "      <td>10.0</td>\n",
       "      <td>9</td>\n",
       "      <td>Yes</td>\n",
       "    </tr>\n",
       "  </tbody>\n",
       "</table>\n",
       "<p>5 rows × 28 columns</p>\n",
       "</div>"
      ],
      "text/plain": [
       "            Timestamp Region Location_Type Connection_Type Email_sending  \\\n",
       "0 2021-10-28 18:56:57   West         Urban              4G           Yes   \n",
       "1 2021-10-28 19:14:06  North         Urban              4G           Yes   \n",
       "2 2021-10-28 21:30:05   West         Urban              4G            No   \n",
       "3 2021-10-28 23:06:31   East         Urban              4G           Yes   \n",
       "4 2021-10-29 06:35:21   West         Urban              4G           Yes   \n",
       "\n",
       "  Video_Call_Smooth Delay_in_Video_calls  Download_Speed  Data_Usage/month  \\\n",
       "0               Yes                   No             0.5              5632   \n",
       "1               Yes                  Yes             0.5             30720   \n",
       "2               Yes                   No             1.5             30720   \n",
       "3               Yes                   No             1.5             30720   \n",
       "4                No                   No             0.5             51200   \n",
       "\n",
       "                                      Phone_used_for  ...  Monthly_Bill(jio)  \\\n",
       "0  Social Media and Instant messaging, Online Mee...  ...                NaN   \n",
       "1  Social Media and Instant messaging, Online Sho...  ...             2000.0   \n",
       "2  Social Media and Instant messaging, Online Sho...  ...                NaN   \n",
       "3  Social Media and Instant messaging, Online Rea...  ...                NaN   \n",
       "4  Social Media and Instant messaging, Online Sho...  ...                NaN   \n",
       "\n",
       "  Switch_to_VI(Jio) Service_Quality(Jio)  \\\n",
       "0               NaN                  NaN   \n",
       "1               Yes                 10.0   \n",
       "2               NaN                  NaN   \n",
       "3               NaN                  NaN   \n",
       "4               NaN                  NaN   \n",
       "\n",
       "  13-Airtel.Why do you use your current network?  Month_Bill(Airtel)  \\\n",
       "0                                            NaN                 NaN   \n",
       "1                                            NaN                 NaN   \n",
       "2     The only network that works in my bedroom               2000.0   \n",
       "3                                   High quality               500.0   \n",
       "4                                   High quality              2000.0   \n",
       "\n",
       "  Swith_to_VI(price)  Switch_to_VI(services) Service_Quality(Airtel)  \\\n",
       "0                NaN                     NaN                     NaN   \n",
       "1                NaN                     NaN                     NaN   \n",
       "2                Yes                     Yes                     7.0   \n",
       "3                 No                     Yes                     7.0   \n",
       "4              Maybe                   Maybe                    10.0   \n",
       "\n",
       "   18.How much support do you think these companies are obtaining from the government?  \\\n",
       "0                                                  7                                     \n",
       "1                                                  8                                     \n",
       "2                                                  8                                     \n",
       "3                                                  7                                     \n",
       "4                                                  9                                     \n",
       "\n",
       "  Monopoly_in_Market?  \n",
       "0                 Yes  \n",
       "1                 Yes  \n",
       "2                 Yes  \n",
       "3                  No  \n",
       "4                 Yes  \n",
       "\n",
       "[5 rows x 28 columns]"
      ]
     },
     "execution_count": 130,
     "metadata": {},
     "output_type": "execute_result"
    }
   ],
   "source": [
    "data.head()"
   ]
  },
  {
   "cell_type": "code",
   "execution_count": 160,
   "id": "086659d4",
   "metadata": {},
   "outputs": [
    {
     "data": {
      "text/plain": [
       "Timestamp                                                                              0\n",
       "Region                                                                                 0\n",
       "Location_Type                                                                          0\n",
       "Connection_Type                                                                        0\n",
       "Email_sending                                                                          0\n",
       "Video_Call_Smooth                                                                      0\n",
       "Delay_in_Video_calls                                                                   0\n",
       "Download_Speed                                                                         0\n",
       "Data_Usage/month                                                                       0\n",
       "Phone_used_for                                                                         0\n",
       "Call_Drop_Rate                                                                         0\n",
       "Recommend_to_Tourist                                                                   0\n",
       "Oftenly_used_Network                                                                   0\n",
       "13-VI.Why do you use your current network?                                             0\n",
       "Monthly_Bill(VI)                                                                       0\n",
       "Switch_to_airtel/jio_(VI)                                                              0\n",
       "Service_Quality(VI)                                                                    0\n",
       "13-Jio.Why do you use your current network?                                            0\n",
       "Monthly_Bill(jio)                                                                      0\n",
       "Switch_to_VI(Jio)                                                                      0\n",
       "Service_Quality(Jio)                                                                   0\n",
       "13-Airtel.Why do you use your current network?                                         0\n",
       "Month_Bill(Airtel)                                                                     0\n",
       "Swith_to_VI(price)                                                                     0\n",
       "Switch_to_VI(services)                                                                 0\n",
       "Service_Quality(Airtel)                                                                0\n",
       "18.How much support do you think these companies are obtaining from the government?    0\n",
       "Monopoly_in_Market?                                                                    0\n",
       "dtype: int64"
      ]
     },
     "execution_count": 160,
     "metadata": {},
     "output_type": "execute_result"
    }
   ],
   "source": [
    "# Missing value treatment\n",
    "\n",
    "data.isnull().sum()"
   ]
  },
  {
   "cell_type": "code",
   "execution_count": 135,
   "id": "14abc5ee",
   "metadata": {},
   "outputs": [
    {
     "data": {
      "text/plain": [
       "(50, 28)"
      ]
     },
     "execution_count": 135,
     "metadata": {},
     "output_type": "execute_result"
    }
   ],
   "source": [
    "data.shape"
   ]
  },
  {
   "cell_type": "code",
   "execution_count": 152,
   "id": "3c8eb269",
   "metadata": {},
   "outputs": [
    {
     "data": {
      "text/plain": [
       "array(['High quality', 'Low price', 'Convenience ',\n",
       "       'Balance of high quality and low price'], dtype=object)"
      ]
     },
     "execution_count": 152,
     "metadata": {},
     "output_type": "execute_result"
    }
   ],
   "source": [
    "data[\"13-Jio.Why do you use your current network?\"].unique()"
   ]
  },
  {
   "cell_type": "code",
   "execution_count": 137,
   "id": "138d6c7f",
   "metadata": {},
   "outputs": [],
   "source": [
    "data[\"13-VI.Why do you use your current network?\"] = data[\"13-VI.Why do you use your current network?\"].fillna(data[\"13-VI.Why do you use your current network?\"].mode()[0])"
   ]
  },
  {
   "cell_type": "code",
   "execution_count": 140,
   "id": "49d42997",
   "metadata": {},
   "outputs": [],
   "source": [
    "data[\"Monthly_Bill(VI)\"] = data[\"Monthly_Bill(VI)\"].fillna(data[\"Monthly_Bill(VI)\"].mean())"
   ]
  },
  {
   "cell_type": "code",
   "execution_count": 145,
   "id": "7fdbd701",
   "metadata": {},
   "outputs": [],
   "source": [
    "data[\"Switch_to_airtel/jio_(VI)\"] = data[\"Switch_to_airtel/jio_(VI)\"].fillna(data[\"Switch_to_airtel/jio_(VI)\"].mode()[0])"
   ]
  },
  {
   "cell_type": "code",
   "execution_count": 146,
   "id": "142a73b4",
   "metadata": {},
   "outputs": [],
   "source": [
    "data[\"Service_Quality(VI)\"] = data[\"Service_Quality(VI)\"].fillna(data[\"Service_Quality(VI)\"].mean())"
   ]
  },
  {
   "cell_type": "code",
   "execution_count": 150,
   "id": "131eafa8",
   "metadata": {},
   "outputs": [],
   "source": [
    "data[\"13-Jio.Why do you use your current network?\"] = data[\"13-Jio.Why do you use your current network?\"].fillna(data[\"13-Jio.Why do you use your current network?\"].mode()[0])"
   ]
  },
  {
   "cell_type": "code",
   "execution_count": 153,
   "id": "9e2d9537",
   "metadata": {},
   "outputs": [],
   "source": [
    "data[\"Monthly_Bill(jio)\"] = data[\"Monthly_Bill(jio)\"].fillna(data[\"Monthly_Bill(jio)\"].mean())"
   ]
  },
  {
   "cell_type": "code",
   "execution_count": 155,
   "id": "fffd7ea8",
   "metadata": {},
   "outputs": [],
   "source": [
    "data[\"Switch_to_VI(Jio)\"] = data[\"Switch_to_VI(Jio)\"].fillna(data[\"Switch_to_VI(Jio)\"].mode()[0])"
   ]
  },
  {
   "cell_type": "code",
   "execution_count": 159,
   "id": "a694180d",
   "metadata": {},
   "outputs": [],
   "source": [
    "data[\"Service_Quality(Jio)\"] = data['Service_Quality(Jio)'].fillna(data[\"Service_Quality(Jio)\"].mean())\n",
    "data[\"13-Airtel.Why do you use your current network?\"] = data[\"13-Airtel.Why do you use your current network?\"].fillna(data[\"13-Airtel.Why do you use your current network?\"].mode()[0])\n",
    "data[\"Month_Bill(Airtel)\"] = data[\"Month_Bill(Airtel)\"].fillna(data[\"Month_Bill(Airtel)\"].mean())\n",
    "data[\"Switch_to_VI(services)\"] = data['Switch_to_VI(services)'].fillna(data[\"Switch_to_VI(services)\"].mode()[0])\n",
    "data[\"Swith_to_VI(price)\"] = data[\"Swith_to_VI(price)\"].fillna(data[\"Swith_to_VI(price)\"].mode()[0])\n",
    "data[\"Service_Quality(Airtel)\"] = data[\"Service_Quality(Airtel)\"].fillna(data[\"Service_Quality(Airtel)\"].mean())"
   ]
  },
  {
   "cell_type": "code",
   "execution_count": 158,
   "id": "24f791c0",
   "metadata": {},
   "outputs": [
    {
     "data": {
      "text/plain": [
       "'No'"
      ]
     },
     "execution_count": 158,
     "metadata": {},
     "output_type": "execute_result"
    }
   ],
   "source": [
    "data[\"Switch_to_VI(services)\"].mode()[0]"
   ]
  },
  {
   "cell_type": "markdown",
   "id": "840843b9",
   "metadata": {},
   "source": [
    "# EDA"
   ]
  },
  {
   "cell_type": "code",
   "execution_count": 168,
   "id": "976b4ac0",
   "metadata": {},
   "outputs": [
    {
     "data": {
      "text/plain": [
       "Text(0.5, 1.0, 'Refgion-wise total customers')"
      ]
     },
     "execution_count": 168,
     "metadata": {},
     "output_type": "execute_result"
    },
    {
     "data": {
      "image/png": "[encoded data removed]",
      "text/plain": [
       "<Figure size 1000x500 with 1 Axes>"
      ]
     },
     "metadata": {},
     "output_type": "display_data"
    }
   ],
   "source": [
    "# Region-wise total customers\n",
    "\n",
    "ax = sns.countplot(x = \"Region\", data = data, palette = \"coolwarm\")\n",
    "\n",
    "for bars in ax.containers:\n",
    "    ax.bar_label(bars)\n",
    "    \n",
    "plt.title(\"Refgion-wise total customers\")"
   ]
  },
  {
   "cell_type": "markdown",
   "id": "47c6d5b4",
   "metadata": {},
   "source": [
    "We can see that most of the customers are from the West region."
   ]
  },
  {
   "cell_type": "code",
   "execution_count": 163,
   "id": "18fe98ce",
   "metadata": {},
   "outputs": [
    {
     "data": {
      "text/html": [
       "<div>\n",
       "<style scoped>\n",
       "    .dataframe tbody tr th:only-of-type {\n",
       "        vertical-align: middle;\n",
       "    }\n",
       "\n",
       "    .dataframe tbody tr th {\n",
       "        vertical-align: top;\n",
       "    }\n",
       "\n",
       "    .dataframe thead th {\n",
       "        text-align: right;\n",
       "    }\n",
       "</style>\n",
       "<table border=\"1\" class=\"dataframe\">\n",
       "  <thead>\n",
       "    <tr style=\"text-align: right;\">\n",
       "      <th></th>\n",
       "      <th>Timestamp</th>\n",
       "      <th>Region</th>\n",
       "      <th>Location_Type</th>\n",
       "      <th>Connection_Type</th>\n",
       "      <th>Email_sending</th>\n",
       "      <th>Video_Call_Smooth</th>\n",
       "      <th>Delay_in_Video_calls</th>\n",
       "      <th>Download_Speed</th>\n",
       "      <th>Data_Usage/month</th>\n",
       "      <th>Phone_used_for</th>\n",
       "      <th>...</th>\n",
       "      <th>Monthly_Bill(jio)</th>\n",
       "      <th>Switch_to_VI(Jio)</th>\n",
       "      <th>Service_Quality(Jio)</th>\n",
       "      <th>13-Airtel.Why do you use your current network?</th>\n",
       "      <th>Month_Bill(Airtel)</th>\n",
       "      <th>Swith_to_VI(price)</th>\n",
       "      <th>Switch_to_VI(services)</th>\n",
       "      <th>Service_Quality(Airtel)</th>\n",
       "      <th>18.How much support do you think these companies are obtaining from the government?</th>\n",
       "      <th>Monopoly_in_Market?</th>\n",
       "    </tr>\n",
       "  </thead>\n",
       "  <tbody>\n",
       "    <tr>\n",
       "      <th>0</th>\n",
       "      <td>2021-10-28 18:56:57</td>\n",
       "      <td>West</td>\n",
       "      <td>Urban</td>\n",
       "      <td>4G</td>\n",
       "      <td>Yes</td>\n",
       "      <td>Yes</td>\n",
       "      <td>No</td>\n",
       "      <td>0.5</td>\n",
       "      <td>5632</td>\n",
       "      <td>Social Media and Instant messaging, Online Mee...</td>\n",
       "      <td>...</td>\n",
       "      <td>916.666667</td>\n",
       "      <td>Maybe</td>\n",
       "      <td>8.055556</td>\n",
       "      <td>High quality</td>\n",
       "      <td>1113.636364</td>\n",
       "      <td>No</td>\n",
       "      <td>No</td>\n",
       "      <td>8.0</td>\n",
       "      <td>7</td>\n",
       "      <td>Yes</td>\n",
       "    </tr>\n",
       "    <tr>\n",
       "      <th>1</th>\n",
       "      <td>2021-10-28 19:14:06</td>\n",
       "      <td>North</td>\n",
       "      <td>Urban</td>\n",
       "      <td>4G</td>\n",
       "      <td>Yes</td>\n",
       "      <td>Yes</td>\n",
       "      <td>Yes</td>\n",
       "      <td>0.5</td>\n",
       "      <td>30720</td>\n",
       "      <td>Social Media and Instant messaging, Online Sho...</td>\n",
       "      <td>...</td>\n",
       "      <td>2000.000000</td>\n",
       "      <td>Yes</td>\n",
       "      <td>10.000000</td>\n",
       "      <td>High quality</td>\n",
       "      <td>1113.636364</td>\n",
       "      <td>No</td>\n",
       "      <td>No</td>\n",
       "      <td>8.0</td>\n",
       "      <td>8</td>\n",
       "      <td>Yes</td>\n",
       "    </tr>\n",
       "    <tr>\n",
       "      <th>2</th>\n",
       "      <td>2021-10-28 21:30:05</td>\n",
       "      <td>West</td>\n",
       "      <td>Urban</td>\n",
       "      <td>4G</td>\n",
       "      <td>No</td>\n",
       "      <td>Yes</td>\n",
       "      <td>No</td>\n",
       "      <td>1.5</td>\n",
       "      <td>30720</td>\n",
       "      <td>Social Media and Instant messaging, Online Sho...</td>\n",
       "      <td>...</td>\n",
       "      <td>916.666667</td>\n",
       "      <td>Maybe</td>\n",
       "      <td>8.055556</td>\n",
       "      <td>The only network that works in my bedroom</td>\n",
       "      <td>2000.000000</td>\n",
       "      <td>Yes</td>\n",
       "      <td>Yes</td>\n",
       "      <td>7.0</td>\n",
       "      <td>8</td>\n",
       "      <td>Yes</td>\n",
       "    </tr>\n",
       "    <tr>\n",
       "      <th>3</th>\n",
       "      <td>2021-10-28 23:06:31</td>\n",
       "      <td>East</td>\n",
       "      <td>Urban</td>\n",
       "      <td>4G</td>\n",
       "      <td>Yes</td>\n",
       "      <td>Yes</td>\n",
       "      <td>No</td>\n",
       "      <td>1.5</td>\n",
       "      <td>30720</td>\n",
       "      <td>Social Media and Instant messaging, Online Rea...</td>\n",
       "      <td>...</td>\n",
       "      <td>916.666667</td>\n",
       "      <td>Maybe</td>\n",
       "      <td>8.055556</td>\n",
       "      <td>High quality</td>\n",
       "      <td>500.000000</td>\n",
       "      <td>No</td>\n",
       "      <td>Yes</td>\n",
       "      <td>7.0</td>\n",
       "      <td>7</td>\n",
       "      <td>No</td>\n",
       "    </tr>\n",
       "    <tr>\n",
       "      <th>4</th>\n",
       "      <td>2021-10-29 06:35:21</td>\n",
       "      <td>West</td>\n",
       "      <td>Urban</td>\n",
       "      <td>4G</td>\n",
       "      <td>Yes</td>\n",
       "      <td>No</td>\n",
       "      <td>No</td>\n",
       "      <td>0.5</td>\n",
       "      <td>51200</td>\n",
       "      <td>Social Media and Instant messaging, Online Sho...</td>\n",
       "      <td>...</td>\n",
       "      <td>916.666667</td>\n",
       "      <td>Maybe</td>\n",
       "      <td>8.055556</td>\n",
       "      <td>High quality</td>\n",
       "      <td>2000.000000</td>\n",
       "      <td>Maybe</td>\n",
       "      <td>Maybe</td>\n",
       "      <td>10.0</td>\n",
       "      <td>9</td>\n",
       "      <td>Yes</td>\n",
       "    </tr>\n",
       "  </tbody>\n",
       "</table>\n",
       "<p>5 rows × 28 columns</p>\n",
       "</div>"
      ],
      "text/plain": [
       "            Timestamp Region Location_Type Connection_Type Email_sending  \\\n",
       "0 2021-10-28 18:56:57   West         Urban              4G           Yes   \n",
       "1 2021-10-28 19:14:06  North         Urban              4G           Yes   \n",
       "2 2021-10-28 21:30:05   West         Urban              4G            No   \n",
       "3 2021-10-28 23:06:31   East         Urban              4G           Yes   \n",
       "4 2021-10-29 06:35:21   West         Urban              4G           Yes   \n",
       "\n",
       "  Video_Call_Smooth Delay_in_Video_calls  Download_Speed  Data_Usage/month  \\\n",
       "0               Yes                   No             0.5              5632   \n",
       "1               Yes                  Yes             0.5             30720   \n",
       "2               Yes                   No             1.5             30720   \n",
       "3               Yes                   No             1.5             30720   \n",
       "4                No                   No             0.5             51200   \n",
       "\n",
       "                                      Phone_used_for  ...  Monthly_Bill(jio)  \\\n",
       "0  Social Media and Instant messaging, Online Mee...  ...         916.666667   \n",
       "1  Social Media and Instant messaging, Online Sho...  ...        2000.000000   \n",
       "2  Social Media and Instant messaging, Online Sho...  ...         916.666667   \n",
       "3  Social Media and Instant messaging, Online Rea...  ...         916.666667   \n",
       "4  Social Media and Instant messaging, Online Sho...  ...         916.666667   \n",
       "\n",
       "  Switch_to_VI(Jio) Service_Quality(Jio)  \\\n",
       "0             Maybe             8.055556   \n",
       "1               Yes            10.000000   \n",
       "2             Maybe             8.055556   \n",
       "3             Maybe             8.055556   \n",
       "4             Maybe             8.055556   \n",
       "\n",
       "  13-Airtel.Why do you use your current network?  Month_Bill(Airtel)  \\\n",
       "0                                   High quality         1113.636364   \n",
       "1                                   High quality         1113.636364   \n",
       "2     The only network that works in my bedroom          2000.000000   \n",
       "3                                   High quality          500.000000   \n",
       "4                                   High quality         2000.000000   \n",
       "\n",
       "  Swith_to_VI(price)  Switch_to_VI(services) Service_Quality(Airtel)  \\\n",
       "0                 No                      No                     8.0   \n",
       "1                 No                      No                     8.0   \n",
       "2                Yes                     Yes                     7.0   \n",
       "3                 No                     Yes                     7.0   \n",
       "4              Maybe                   Maybe                    10.0   \n",
       "\n",
       "   18.How much support do you think these companies are obtaining from the government?  \\\n",
       "0                                                  7                                     \n",
       "1                                                  8                                     \n",
       "2                                                  8                                     \n",
       "3                                                  7                                     \n",
       "4                                                  9                                     \n",
       "\n",
       "  Monopoly_in_Market?  \n",
       "0                 Yes  \n",
       "1                 Yes  \n",
       "2                 Yes  \n",
       "3                  No  \n",
       "4                 Yes  \n",
       "\n",
       "[5 rows x 28 columns]"
      ]
     },
     "execution_count": 163,
     "metadata": {},
     "output_type": "execute_result"
    }
   ],
   "source": [
    "data.head()"
   ]
  },
  {
   "cell_type": "code",
   "execution_count": 164,
   "id": "a915da6d",
   "metadata": {},
   "outputs": [],
   "source": [
    "# Connection type of customers:\n",
    "\n",
    "con = data[\"Connection_Type\"].value_counts()"
   ]
  },
  {
   "cell_type": "code",
   "execution_count": 165,
   "id": "dea8cd8b",
   "metadata": {},
   "outputs": [
    {
     "data": {
      "text/plain": [
       "Connection_Type\n",
       "4G    48\n",
       "3G     2\n",
       "Name: count, dtype: int64"
      ]
     },
     "execution_count": 165,
     "metadata": {},
     "output_type": "execute_result"
    }
   ],
   "source": [
    "con"
   ]
  },
  {
   "cell_type": "code",
   "execution_count": 167,
   "id": "46e83416",
   "metadata": {},
   "outputs": [
    {
     "data": {
      "text/plain": [
       "Text(0.5, 1.0, 'Percentage shared between 4G and 3G users')"
      ]
     },
     "execution_count": 167,
     "metadata": {},
     "output_type": "execute_result"
    },
    {
     "data": {
      "image/png": "[encoded data removed]",
      "text/plain": [
       "<Figure size 1000x500 with 1 Axes>"
      ]
     },
     "metadata": {},
     "output_type": "display_data"
    }
   ],
   "source": [
    "plt.pie(con, labels = con.index, autopct=\"%.2f%%\", explode = [0.1,0.1])\n",
    "\n",
    "plt.title(\"Percentage shared between 4G and 3G users\")"
   ]
  },
  {
   "cell_type": "markdown",
   "id": "c0c58c39",
   "metadata": {},
   "source": [
    "96% of the users are using 4G connection and only 4% are using 3G connection"
   ]
  },
  {
   "cell_type": "code",
   "execution_count": 173,
   "id": "b8a2e1fa",
   "metadata": {
    "scrolled": false
   },
   "outputs": [
    {
     "data": {
      "text/plain": [
       "Text(0.5, 1.0, 'Total customers from each location type')"
      ]
     },
     "execution_count": 173,
     "metadata": {},
     "output_type": "execute_result"
    },
    {
     "data": {
      "image/png": "[encoded data removed]",
      "text/plain": [
       "<Figure size 1000x500 with 1 Axes>"
      ]
     },
     "metadata": {},
     "output_type": "display_data"
    }
   ],
   "source": [
    "# Total customers from different location type\n",
    "\n",
    "ax = sns.countplot(x = \"Location_Type\", data = data, palette = \"muted\")\n",
    "\n",
    "for bars in ax.containers:\n",
    "    ax.bar_label(bars)\n",
    "    \n",
    "plt.title(\"Total customers from each location type\")"
   ]
  },
  {
   "cell_type": "markdown",
   "id": "b4ed4afa",
   "metadata": {},
   "source": [
    "Most of the customers are from the urban area."
   ]
  },
  {
   "cell_type": "code",
   "execution_count": 177,
   "id": "f9af97fb",
   "metadata": {},
   "outputs": [
    {
     "data": {
      "image/png": "[encoded data removed]",
      "text/plain": [
       "<Figure size 1000x500 with 1 Axes>"
      ]
     },
     "metadata": {},
     "output_type": "display_data"
    }
   ],
   "source": [
    "# Total connection between different location type\n",
    "\n",
    "ax = pd.crosstab(data[\"Location_Type\"],data[\"Connection_Type\"]).plot(kind = \"bar\", stacked = False)\n",
    "\n",
    "for bars in ax.containers:\n",
    "    ax.bar_label(bars)"
   ]
  },
  {
   "cell_type": "markdown",
   "id": "d073e67a",
   "metadata": {},
   "source": [
    "As we can see that most of the customers are using 4G connection in the different areas. While only 2 customers are using 3G network."
   ]
  },
  {
   "cell_type": "code",
   "execution_count": 180,
   "id": "4f55f037",
   "metadata": {},
   "outputs": [
    {
     "data": {
      "text/plain": [
       "<Axes: xlabel='Email_sending', ylabel='count'>"
      ]
     },
     "execution_count": 180,
     "metadata": {},
     "output_type": "execute_result"
    },
    {
     "data": {
      "image/png": "[encoded data removed]",
      "text/plain": [
       "<Figure size 1000x500 with 1 Axes>"
      ]
     },
     "metadata": {},
     "output_type": "display_data"
    }
   ],
   "source": [
    "# Are the customers facing any problem sending emails.\n",
    "\n",
    "ax = sns.countplot(x = \"Email_sending\" ,data = data, palette = \"viridis\")"
   ]
  },
  {
   "cell_type": "markdown",
   "id": "91fd0384",
   "metadata": {},
   "source": [
    "We can clearly see that customers are very rarely facing from while sedning emails."
   ]
  },
  {
   "cell_type": "code",
   "execution_count": 181,
   "id": "6fe2d394",
   "metadata": {},
   "outputs": [
    {
     "data": {
      "text/html": [
       "<div>\n",
       "<style scoped>\n",
       "    .dataframe tbody tr th:only-of-type {\n",
       "        vertical-align: middle;\n",
       "    }\n",
       "\n",
       "    .dataframe tbody tr th {\n",
       "        vertical-align: top;\n",
       "    }\n",
       "\n",
       "    .dataframe thead th {\n",
       "        text-align: right;\n",
       "    }\n",
       "</style>\n",
       "<table border=\"1\" class=\"dataframe\">\n",
       "  <thead>\n",
       "    <tr style=\"text-align: right;\">\n",
       "      <th></th>\n",
       "      <th>Timestamp</th>\n",
       "      <th>Region</th>\n",
       "      <th>Location_Type</th>\n",
       "      <th>Connection_Type</th>\n",
       "      <th>Email_sending</th>\n",
       "      <th>Video_Call_Smooth</th>\n",
       "      <th>Delay_in_Video_calls</th>\n",
       "      <th>Download_Speed</th>\n",
       "      <th>Data_Usage/month</th>\n",
       "      <th>Phone_used_for</th>\n",
       "      <th>...</th>\n",
       "      <th>Monthly_Bill(jio)</th>\n",
       "      <th>Switch_to_VI(Jio)</th>\n",
       "      <th>Service_Quality(Jio)</th>\n",
       "      <th>13-Airtel.Why do you use your current network?</th>\n",
       "      <th>Month_Bill(Airtel)</th>\n",
       "      <th>Swith_to_VI(price)</th>\n",
       "      <th>Switch_to_VI(services)</th>\n",
       "      <th>Service_Quality(Airtel)</th>\n",
       "      <th>18.How much support do you think these companies are obtaining from the government?</th>\n",
       "      <th>Monopoly_in_Market?</th>\n",
       "    </tr>\n",
       "  </thead>\n",
       "  <tbody>\n",
       "    <tr>\n",
       "      <th>0</th>\n",
       "      <td>2021-10-28 18:56:57</td>\n",
       "      <td>West</td>\n",
       "      <td>Urban</td>\n",
       "      <td>4G</td>\n",
       "      <td>Yes</td>\n",
       "      <td>Yes</td>\n",
       "      <td>No</td>\n",
       "      <td>0.5</td>\n",
       "      <td>5632</td>\n",
       "      <td>Social Media and Instant messaging, Online Mee...</td>\n",
       "      <td>...</td>\n",
       "      <td>916.666667</td>\n",
       "      <td>Maybe</td>\n",
       "      <td>8.055556</td>\n",
       "      <td>High quality</td>\n",
       "      <td>1113.636364</td>\n",
       "      <td>No</td>\n",
       "      <td>No</td>\n",
       "      <td>8.0</td>\n",
       "      <td>7</td>\n",
       "      <td>Yes</td>\n",
       "    </tr>\n",
       "    <tr>\n",
       "      <th>1</th>\n",
       "      <td>2021-10-28 19:14:06</td>\n",
       "      <td>North</td>\n",
       "      <td>Urban</td>\n",
       "      <td>4G</td>\n",
       "      <td>Yes</td>\n",
       "      <td>Yes</td>\n",
       "      <td>Yes</td>\n",
       "      <td>0.5</td>\n",
       "      <td>30720</td>\n",
       "      <td>Social Media and Instant messaging, Online Sho...</td>\n",
       "      <td>...</td>\n",
       "      <td>2000.000000</td>\n",
       "      <td>Yes</td>\n",
       "      <td>10.000000</td>\n",
       "      <td>High quality</td>\n",
       "      <td>1113.636364</td>\n",
       "      <td>No</td>\n",
       "      <td>No</td>\n",
       "      <td>8.0</td>\n",
       "      <td>8</td>\n",
       "      <td>Yes</td>\n",
       "    </tr>\n",
       "    <tr>\n",
       "      <th>2</th>\n",
       "      <td>2021-10-28 21:30:05</td>\n",
       "      <td>West</td>\n",
       "      <td>Urban</td>\n",
       "      <td>4G</td>\n",
       "      <td>No</td>\n",
       "      <td>Yes</td>\n",
       "      <td>No</td>\n",
       "      <td>1.5</td>\n",
       "      <td>30720</td>\n",
       "      <td>Social Media and Instant messaging, Online Sho...</td>\n",
       "      <td>...</td>\n",
       "      <td>916.666667</td>\n",
       "      <td>Maybe</td>\n",
       "      <td>8.055556</td>\n",
       "      <td>The only network that works in my bedroom</td>\n",
       "      <td>2000.000000</td>\n",
       "      <td>Yes</td>\n",
       "      <td>Yes</td>\n",
       "      <td>7.0</td>\n",
       "      <td>8</td>\n",
       "      <td>Yes</td>\n",
       "    </tr>\n",
       "    <tr>\n",
       "      <th>3</th>\n",
       "      <td>2021-10-28 23:06:31</td>\n",
       "      <td>East</td>\n",
       "      <td>Urban</td>\n",
       "      <td>4G</td>\n",
       "      <td>Yes</td>\n",
       "      <td>Yes</td>\n",
       "      <td>No</td>\n",
       "      <td>1.5</td>\n",
       "      <td>30720</td>\n",
       "      <td>Social Media and Instant messaging, Online Rea...</td>\n",
       "      <td>...</td>\n",
       "      <td>916.666667</td>\n",
       "      <td>Maybe</td>\n",
       "      <td>8.055556</td>\n",
       "      <td>High quality</td>\n",
       "      <td>500.000000</td>\n",
       "      <td>No</td>\n",
       "      <td>Yes</td>\n",
       "      <td>7.0</td>\n",
       "      <td>7</td>\n",
       "      <td>No</td>\n",
       "    </tr>\n",
       "    <tr>\n",
       "      <th>4</th>\n",
       "      <td>2021-10-29 06:35:21</td>\n",
       "      <td>West</td>\n",
       "      <td>Urban</td>\n",
       "      <td>4G</td>\n",
       "      <td>Yes</td>\n",
       "      <td>No</td>\n",
       "      <td>No</td>\n",
       "      <td>0.5</td>\n",
       "      <td>51200</td>\n",
       "      <td>Social Media and Instant messaging, Online Sho...</td>\n",
       "      <td>...</td>\n",
       "      <td>916.666667</td>\n",
       "      <td>Maybe</td>\n",
       "      <td>8.055556</td>\n",
       "      <td>High quality</td>\n",
       "      <td>2000.000000</td>\n",
       "      <td>Maybe</td>\n",
       "      <td>Maybe</td>\n",
       "      <td>10.0</td>\n",
       "      <td>9</td>\n",
       "      <td>Yes</td>\n",
       "    </tr>\n",
       "  </tbody>\n",
       "</table>\n",
       "<p>5 rows × 28 columns</p>\n",
       "</div>"
      ],
      "text/plain": [
       "            Timestamp Region Location_Type Connection_Type Email_sending  \\\n",
       "0 2021-10-28 18:56:57   West         Urban              4G           Yes   \n",
       "1 2021-10-28 19:14:06  North         Urban              4G           Yes   \n",
       "2 2021-10-28 21:30:05   West         Urban              4G            No   \n",
       "3 2021-10-28 23:06:31   East         Urban              4G           Yes   \n",
       "4 2021-10-29 06:35:21   West         Urban              4G           Yes   \n",
       "\n",
       "  Video_Call_Smooth Delay_in_Video_calls  Download_Speed  Data_Usage/month  \\\n",
       "0               Yes                   No             0.5              5632   \n",
       "1               Yes                  Yes             0.5             30720   \n",
       "2               Yes                   No             1.5             30720   \n",
       "3               Yes                   No             1.5             30720   \n",
       "4                No                   No             0.5             51200   \n",
       "\n",
       "                                      Phone_used_for  ...  Monthly_Bill(jio)  \\\n",
       "0  Social Media and Instant messaging, Online Mee...  ...         916.666667   \n",
       "1  Social Media and Instant messaging, Online Sho...  ...        2000.000000   \n",
       "2  Social Media and Instant messaging, Online Sho...  ...         916.666667   \n",
       "3  Social Media and Instant messaging, Online Rea...  ...         916.666667   \n",
       "4  Social Media and Instant messaging, Online Sho...  ...         916.666667   \n",
       "\n",
       "  Switch_to_VI(Jio) Service_Quality(Jio)  \\\n",
       "0             Maybe             8.055556   \n",
       "1               Yes            10.000000   \n",
       "2             Maybe             8.055556   \n",
       "3             Maybe             8.055556   \n",
       "4             Maybe             8.055556   \n",
       "\n",
       "  13-Airtel.Why do you use your current network?  Month_Bill(Airtel)  \\\n",
       "0                                   High quality         1113.636364   \n",
       "1                                   High quality         1113.636364   \n",
       "2     The only network that works in my bedroom          2000.000000   \n",
       "3                                   High quality          500.000000   \n",
       "4                                   High quality         2000.000000   \n",
       "\n",
       "  Swith_to_VI(price)  Switch_to_VI(services) Service_Quality(Airtel)  \\\n",
       "0                 No                      No                     8.0   \n",
       "1                 No                      No                     8.0   \n",
       "2                Yes                     Yes                     7.0   \n",
       "3                 No                     Yes                     7.0   \n",
       "4              Maybe                   Maybe                    10.0   \n",
       "\n",
       "   18.How much support do you think these companies are obtaining from the government?  \\\n",
       "0                                                  7                                     \n",
       "1                                                  8                                     \n",
       "2                                                  8                                     \n",
       "3                                                  7                                     \n",
       "4                                                  9                                     \n",
       "\n",
       "  Monopoly_in_Market?  \n",
       "0                 Yes  \n",
       "1                 Yes  \n",
       "2                 Yes  \n",
       "3                  No  \n",
       "4                 Yes  \n",
       "\n",
       "[5 rows x 28 columns]"
      ]
     },
     "execution_count": 181,
     "metadata": {},
     "output_type": "execute_result"
    }
   ],
   "source": [
    "data.head()"
   ]
  },
  {
   "cell_type": "code",
   "execution_count": 183,
   "id": "6cbd1203",
   "metadata": {},
   "outputs": [
    {
     "data": {
      "image/png": "[encoded data removed]",
      "text/plain": [
       "<Figure size 1000x500 with 1 Axes>"
      ]
     },
     "metadata": {},
     "output_type": "display_data"
    }
   ],
   "source": [
    "# Which type of network is the best for making video calls\n",
    "\n",
    "ax = sns.countplot(x = \"Video_Call_Smooth\", data = data, hue = \"Connection_Type\", palette = \"pastel\")\n",
    "\n",
    "for bars in ax.containers:\n",
    "    ax.bar_label(bars)"
   ]
  },
  {
   "cell_type": "markdown",
   "id": "f0173c8f",
   "metadata": {},
   "source": [
    "There are not many noticable among the 4G and 3G networks both are fine for making video calss."
   ]
  },
  {
   "cell_type": "code",
   "execution_count": 184,
   "id": "8e7238c2",
   "metadata": {},
   "outputs": [],
   "source": [
    "# Are there any delay in video calls\n",
    "\n",
    "v = data[\"Delay_in_Video_calls\"].value_counts()"
   ]
  },
  {
   "cell_type": "code",
   "execution_count": 186,
   "id": "56791042",
   "metadata": {},
   "outputs": [
    {
     "data": {
      "text/plain": [
       "Text(0.5, 1.0, 'Problems related to video calls')"
      ]
     },
     "execution_count": 186,
     "metadata": {},
     "output_type": "execute_result"
    },
    {
     "data": {
      "image/png": "[encoded data removed]",
      "text/plain": [
       "<Figure size 1000x500 with 1 Axes>"
      ]
     },
     "metadata": {},
     "output_type": "display_data"
    }
   ],
   "source": [
    "plt.pie(v, labels = v.index, autopct=\"%.2f%%\")\n",
    "\n",
    "plt.title(\"Problems related to video calls\")"
   ]
  },
  {
   "cell_type": "markdown",
   "id": "db4c50a4",
   "metadata": {},
   "source": [
    "As we can see that customers oftenly faces problem od delay in video calls."
   ]
  },
  {
   "cell_type": "code",
   "execution_count": 191,
   "id": "8c641b6c",
   "metadata": {},
   "outputs": [
    {
     "data": {
      "image/png": "[encoded data removed]",
      "text/plain": [
       "<Figure size 1000x500 with 1 Axes>"
      ]
     },
     "metadata": {},
     "output_type": "display_data"
    }
   ],
   "source": [
    "# Average download speed betwen 4G and 3G networks\n",
    "\n",
    "ax = round(data.groupby(\"Connection_Type\")[\"Download_Speed\"].mean(),2).plot(kind = \"bar\")\n",
    "\n",
    "for bars in ax.containers:\n",
    "    ax.bar_label(bars)"
   ]
  },
  {
   "cell_type": "markdown",
   "id": "f85fe669",
   "metadata": {},
   "source": [
    "This analysis can be inaccurate as there are very less customers who are using 3G network."
   ]
  },
  {
   "cell_type": "code",
   "execution_count": 202,
   "id": "4f5ef1d6",
   "metadata": {},
   "outputs": [],
   "source": [
    "# Monthly data usage among the different location type (The data usage are given in MB)\n",
    "\n",
    "d = round(data.groupby(\"Location_Type\")[\"Data_Usage/month\"].mean(),2)"
   ]
  },
  {
   "cell_type": "code",
   "execution_count": 201,
   "id": "37b65185",
   "metadata": {},
   "outputs": [
    {
     "data": {
      "text/plain": [
       "Location_Type\n",
       "Rural        163840\n",
       "Suburban     338944\n",
       "Urban       1201814\n",
       "Name: Data_Usage/month, dtype: int64"
      ]
     },
     "execution_count": 201,
     "metadata": {},
     "output_type": "execute_result"
    }
   ],
   "source": [
    "d"
   ]
  },
  {
   "cell_type": "code",
   "execution_count": 199,
   "id": "df5a4446",
   "metadata": {},
   "outputs": [
    {
     "data": {
      "image/png": "[encoded data removed]",
      "text/plain": [
       "<Figure size 1000x500 with 1 Axes>"
      ]
     },
     "metadata": {},
     "output_type": "display_data"
    }
   ],
   "source": [
    "ax = sns.barplot(x = d.index, y = d.values, palette = \"coolwarm\")\n",
    "\n",
    "for bars in ax.containers:\n",
    "    ax.bar_label(bars)"
   ]
  },
  {
   "cell_type": "markdown",
   "id": "70b99872",
   "metadata": {},
   "source": [
    "We can see that surprisingly the cusrtomers from the rural area uses the maximum amount of data as compared to the other two."
   ]
  },
  {
   "cell_type": "code",
   "execution_count": 203,
   "id": "19c99f46",
   "metadata": {},
   "outputs": [
    {
     "data": {
      "text/plain": [
       "Index(['Timestamp', 'Region', 'Location_Type', 'Connection_Type',\n",
       "       'Email_sending', 'Video_Call_Smooth', 'Delay_in_Video_calls',\n",
       "       'Download_Speed', 'Data_Usage/month', 'Phone_used_for',\n",
       "       'Call_Drop_Rate', 'Recommend_to_Tourist', 'Oftenly_used_Network',\n",
       "       '13-VI.Why do you use your current network?', 'Monthly_Bill(VI)',\n",
       "       'Switch_to_airtel/jio_(VI)', 'Service_Quality(VI)',\n",
       "       '13-Jio.Why do you use your current network?', 'Monthly_Bill(jio)',\n",
       "       'Switch_to_VI(Jio)', 'Service_Quality(Jio)',\n",
       "       '13-Airtel.Why do you use your current network?', 'Month_Bill(Airtel)',\n",
       "       'Swith_to_VI(price)', 'Switch_to_VI(services)',\n",
       "       'Service_Quality(Airtel)',\n",
       "       '18.How much support do you think these companies are obtaining from the government?',\n",
       "       'Monopoly_in_Market?'],\n",
       "      dtype='object')"
      ]
     },
     "execution_count": 203,
     "metadata": {},
     "output_type": "execute_result"
    }
   ],
   "source": [
    "data.columns"
   ]
  },
  {
   "cell_type": "code",
   "execution_count": 204,
   "id": "9c02e20b",
   "metadata": {},
   "outputs": [
    {
     "data": {
      "text/plain": [
       "1113.6363636363637"
      ]
     },
     "execution_count": 204,
     "metadata": {},
     "output_type": "execute_result"
    }
   ],
   "source": [
    "data[\"Month_Bill(Airtel)\"].mean()\n",
    "data[\"Monthly_Bill(VI)\"].mean()\n",
    "data[\"Monthly_Bill(jio)\"].mean()"
   ]
  },
  {
   "cell_type": "code",
   "execution_count": 208,
   "id": "84b84185",
   "metadata": {},
   "outputs": [],
   "source": [
    "# Average monthly bill of the providers\n",
    "\n",
    "mean_values = [data[\"Month_Bill(Airtel)\"].mean(),\n",
    "              data[\"Monthly_Bill(VI)\"].mean(),\n",
    "              data[\"Monthly_Bill(jio)\"].mean()]"
   ]
  },
  {
   "cell_type": "code",
   "execution_count": 211,
   "id": "5eff135a",
   "metadata": {},
   "outputs": [
    {
     "data": {
      "text/plain": [
       "Text(0.5, 1.0, 'Average monthly bills')"
      ]
     },
     "execution_count": 211,
     "metadata": {},
     "output_type": "execute_result"
    },
    {
     "data": {
      "image/png": "[encoded data removed]",
      "text/plain": [
       "<Figure size 1000x500 with 1 Axes>"
      ]
     },
     "metadata": {},
     "output_type": "display_data"
    }
   ],
   "source": [
    "ax = sns.barplot(x = [\"Airtel\",\"VI\",\"Jio\"], y = mean_values)\n",
    "\n",
    "for bars in ax.containers:\n",
    "    ax.bar_label(bars)\n",
    "    \n",
    "plt.title(\"Average monthly bills\")"
   ]
  },
  {
   "cell_type": "markdown",
   "id": "d8411ef8",
   "metadata": {},
   "source": [
    "We can see that average monthly bill is the highest for VI and lowest for Jio."
   ]
  },
  {
   "cell_type": "code",
   "execution_count": 212,
   "id": "f9f86022",
   "metadata": {},
   "outputs": [],
   "source": [
    "# Service service quality scores of the providers\n",
    "\n",
    "mean_score = [data[\"Service_Quality(Airtel)\"].mean(),\n",
    "             data[\"Service_Quality(Jio)\"].mean(),\n",
    "             data[\"Service_Quality(VI)\"].mean()]"
   ]
  },
  {
   "cell_type": "code",
   "execution_count": 214,
   "id": "edd8d3cb",
   "metadata": {},
   "outputs": [
    {
     "data": {
      "text/plain": [
       "Text(0.5, 1.0, 'Average service quality scores')"
      ]
     },
     "execution_count": 214,
     "metadata": {},
     "output_type": "execute_result"
    },
    {
     "data": {
      "image/png": "[encoded data removed]",
      "text/plain": [
       "<Figure size 1000x500 with 1 Axes>"
      ]
     },
     "metadata": {},
     "output_type": "display_data"
    }
   ],
   "source": [
    "ax = sns.barplot(x = [\"Airtel\",\"Jio\",\"VI\"], y = mean_score)\n",
    "\n",
    "for bars in ax.containers:\n",
    "    ax.bar_label(bars)\n",
    "    \n",
    "plt.title(\"Average service quality scores\")"
   ]
  },
  {
   "cell_type": "markdown",
   "id": "01076311",
   "metadata": {},
   "source": [
    "Service quality score is the lowest for VI."
   ]
  },
  {
   "cell_type": "code",
   "execution_count": 215,
   "id": "9557d240",
   "metadata": {},
   "outputs": [
    {
     "data": {
      "text/plain": [
       "Index(['Timestamp', 'Region', 'Location_Type', 'Connection_Type',\n",
       "       'Email_sending', 'Video_Call_Smooth', 'Delay_in_Video_calls',\n",
       "       'Download_Speed', 'Data_Usage/month', 'Phone_used_for',\n",
       "       'Call_Drop_Rate', 'Recommend_to_Tourist', 'Oftenly_used_Network',\n",
       "       '13-VI.Why do you use your current network?', 'Monthly_Bill(VI)',\n",
       "       'Switch_to_airtel/jio_(VI)', 'Service_Quality(VI)',\n",
       "       '13-Jio.Why do you use your current network?', 'Monthly_Bill(jio)',\n",
       "       'Switch_to_VI(Jio)', 'Service_Quality(Jio)',\n",
       "       '13-Airtel.Why do you use your current network?', 'Month_Bill(Airtel)',\n",
       "       'Swith_to_VI(price)', 'Switch_to_VI(services)',\n",
       "       'Service_Quality(Airtel)',\n",
       "       '18.How much support do you think these companies are obtaining from the government?',\n",
       "       'Monopoly_in_Market?'],\n",
       "      dtype='object')"
      ]
     },
     "execution_count": 215,
     "metadata": {},
     "output_type": "execute_result"
    }
   ],
   "source": [
    "data.columns"
   ]
  },
  {
   "cell_type": "code",
   "execution_count": 217,
   "id": "8af06f74",
   "metadata": {},
   "outputs": [
    {
     "data": {
      "image/png": "[encoded data removed]",
      "text/plain": [
       "<Figure size 1000x500 with 1 Axes>"
      ]
     },
     "metadata": {},
     "output_type": "display_data"
    }
   ],
   "source": [
    "# Are the customers willing to change the service provider\n",
    "\n",
    "# VI\n",
    "\n",
    "ax = sns.countplot(x = \"Switch_to_VI(Jio)\", data = data, palette = \"coolwarm\")\n",
    "\n",
    "for bars in ax.containers:\n",
    "    ax.bar_label(bars)"
   ]
  },
  {
   "cell_type": "code",
   "execution_count": 219,
   "id": "ece9fbf0",
   "metadata": {},
   "outputs": [
    {
     "data": {
      "image/png": "[encoded data removed]",
      "text/plain": [
       "<Figure size 1000x500 with 1 Axes>"
      ]
     },
     "metadata": {},
     "output_type": "display_data"
    }
   ],
   "source": [
    "# Airtel/Jio\n",
    "\n",
    "ax = sns.countplot(x = \"Switch_to_airtel/jio_(VI)\", data = data, palette = \"viridis\")\n",
    "\n",
    "for bars in ax.containers:\n",
    "    ax.bar_label(bars)"
   ]
  },
  {
   "cell_type": "code",
   "execution_count": 220,
   "id": "f8570c30",
   "metadata": {},
   "outputs": [],
   "source": [
    "# What the customers think about monopoly in the market\n",
    "\n",
    "m = data[\"Monopoly_in_Market?\"].value_counts()"
   ]
  },
  {
   "cell_type": "code",
   "execution_count": 221,
   "id": "89a10ef3",
   "metadata": {},
   "outputs": [
    {
     "data": {
      "text/plain": [
       "Monopoly_in_Market?\n",
       "Yes    34\n",
       "No     16\n",
       "Name: count, dtype: int64"
      ]
     },
     "execution_count": 221,
     "metadata": {},
     "output_type": "execute_result"
    }
   ],
   "source": [
    "m"
   ]
  },
  {
   "cell_type": "code",
   "execution_count": 223,
   "id": "ceee78c5",
   "metadata": {},
   "outputs": [
    {
     "data": {
      "text/plain": [
       "Text(0.5, 1.0, 'Is there monopoly in the market')"
      ]
     },
     "execution_count": 223,
     "metadata": {},
     "output_type": "execute_result"
    },
    {
     "data": {
      "image/png": "[encoded data removed]",
      "text/plain": [
       "<Figure size 1000x500 with 1 Axes>"
      ]
     },
     "metadata": {},
     "output_type": "display_data"
    }
   ],
   "source": [
    "plt.pie(m, labels = m.index, autopct=\"%.2f%%\")\n",
    "\n",
    "plt.title(\"Is there monopoly in the market\")"
   ]
  },
  {
   "cell_type": "markdown",
   "id": "ddc12efb",
   "metadata": {},
   "source": [
    "Most of the customers think that there is monopoly in the market."
   ]
  },
  {
   "cell_type": "code",
   "execution_count": null,
   "id": "eee2e69c",
   "metadata": {},
   "outputs": [],
   "source": []
  }
 ],
 "metadata": {
  "kernelspec": {
   "display_name": "Python 3 (ipykernel)",
   "language": "python",
   "name": "python3"
  },
  "language_info": {
   "codemirror_mode": {
    "name": "ipython",
    "version": 3
   },
   "file_extension": ".py",
   "mimetype": "text/x-python",
   "name": "python",
   "nbconvert_exporter": "python",
   "pygments_lexer": "ipython3",
   "version": "3.11.5"
  }
 },
 "nbformat": 4,
 "nbformat_minor": 5
}
